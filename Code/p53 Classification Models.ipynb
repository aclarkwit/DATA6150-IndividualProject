{
 "cells": [
  {
   "cell_type": "markdown",
   "metadata": {},
   "source": [
    "BACKGROUND:\n",
    "\n",
    "This code looks at dimensionality reduction \n",
    "\n",
    "The dataset has 200 observations and 5408 variables (1 target/response variable and 5407 predictor variables)\n",
    "\n",
    "p53 is a \"tumor supressing gene\" and it's mutated form is associated with almost every cancer\n",
    "\n",
    "In it's \"active\" state, the gene is mutated and associated with cancer\n",
    "\n",
    "In it's \"inactive\" state, the gene is not mutated and it is associated with healthy cells\n",
    "\n",
    "p53 mutation is very difficult to measure without advanced, highly expensive gene sequencing techniques\n",
    "\n",
    "We want to correlate p53 mutation by measure a range of biophysical attributes\n",
    "\n",
    "These biophysical attributes are represented our 5407 predictor variables\n",
    "\n",
    "We want to use these predictor variables and build a classification model that will predict\n",
    "\n",
    "Whether or not p53 is mutated (cancerous) or not\n",
    "\n",
    "The problem is there are too many predictor variables for simple classification models\n",
    "\n",
    "Due to \"the curse of dimensionality\", classification models require more and more observations to make accurate predictions\n",
    "\n",
    "This requirement can be very costly and inefficient\n",
    "\n",
    "Our goal is to use dimensionality reduction to decrease the amount of predictor variables, so that we can build cost-effective and time efficient classification models\n"
   ]
  },
  {
   "cell_type": "markdown",
   "metadata": {},
   "source": [
    "IMPORT ALL LIBRARIES BEFORE RUNNING ANYTHING"
   ]
  },
  {
   "cell_type": "code",
   "execution_count": 1,
   "metadata": {},
   "outputs": [],
   "source": [
    "#Import numpy, pandas, matplotlib and scipy\n",
    "import numpy as np\n",
    "import pandas as pd\n",
    "import matplotlib.pyplot as plt\n",
    "from scipy import stats"
   ]
  },
  {
   "cell_type": "code",
   "execution_count": 2,
   "metadata": {},
   "outputs": [],
   "source": [
    "#Import K-Nearest Neighbors from sklearn\n",
    "#Also import standard scaler so you can scale predictor variables\n",
    "from sklearn.neighbors import KNeighborsClassifier\n",
    "from sklearn.preprocessing import StandardScaler\n",
    "from sklearn import metrics\n",
    "from sklearn.metrics import classification_report\n",
    "from sklearn.discriminant_analysis import LinearDiscriminantAnalysis\n",
    "from sklearn.model_selection import train_test_split\n",
    "from sklearn.metrics import accuracy_score"
   ]
  },
  {
   "cell_type": "code",
   "execution_count": 3,
   "metadata": {},
   "outputs": [],
   "source": [
    "#Import principal component analysis\n",
    "\n",
    "from sklearn.decomposition import PCA\n"
   ]
  },
  {
   "cell_type": "code",
   "execution_count": 4,
   "metadata": {},
   "outputs": [],
   "source": [
    "#Import logistic regression\n",
    "\n",
    "from sklearn.linear_model import LogisticRegression"
   ]
  },
  {
   "cell_type": "code",
   "execution_count": 5,
   "metadata": {},
   "outputs": [],
   "source": [
    "from sklearn.datasets import make_blobs"
   ]
  },
  {
   "cell_type": "code",
   "execution_count": 6,
   "metadata": {},
   "outputs": [],
   "source": [
    "#First import LDA from sklearn\n",
    "\n",
    "from sklearn.discriminant_analysis import LinearDiscriminantAnalysis\n",
    "from sklearn.model_selection import train_test_split\n",
    "from sklearn.metrics import accuracy_score\n",
    "from sklearn import metrics\n",
    "from sklearn.metrics import classification_report"
   ]
  },
  {
   "cell_type": "markdown",
   "metadata": {},
   "source": [
    "METHODS\n",
    "\n",
    "Initialize all methods before running analysis"
   ]
  },
  {
   "cell_type": "code",
   "execution_count": 7,
   "metadata": {},
   "outputs": [],
   "source": [
    "#METHOD 1 - K-Nearest Neighbor\n",
    "\n",
    "\n",
    "#Classification method \"KNN\" \n",
    "#Accepts an X (predictor) and y (response variable) dataset, test size, random state and k-parameter\n",
    "#returns accuracy rate of model\n",
    "def knn_custom(geneskX, genesky, ts, rs, k_par):\n",
    "    \n",
    "    Xk = geneskX\n",
    "    yk = genesky\n",
    "\n",
    "    Xk_train, Xk_test, yk_train, yk_test = train_test_split(Xk, yk, test_size=ts, random_state=rs)\n",
    "\n",
    "# Standardize features\n",
    "    scaler = StandardScaler()\n",
    "    Xk_train = scaler.fit_transform(Xk_train)\n",
    "    Xk_test = scaler.transform(Xk_test)\n",
    "\n",
    "    # Create a KNN classifier\n",
    "    knn = KNeighborsClassifier(n_neighbors=k_par)  \n",
    "\n",
    "    # Fit the model on the training data\n",
    "    knn.fit(Xk_train, yk_train)\n",
    "\n",
    "    # Make predictions on the test data\n",
    "    yk_pred = knn.predict(Xk_test)\n",
    "    \n",
    "    # Evaluate the model\n",
    "    accuracyk = accuracy_score(yk_test, yk_pred)\n",
    "    print(classification_report(yk_test, yk_pred))     \n",
    "    return (accuracyk*100)\n"
   ]
  },
  {
   "cell_type": "code",
   "execution_count": 8,
   "metadata": {},
   "outputs": [],
   "source": [
    "#Method - 2\n",
    "\n",
    "#Linear Discriminant Analysis\n",
    "#Accepts X df, y df, test size and random state\n",
    "#Accepts t, this is a conditional if t < 1, then it returns accuracy rate\n",
    "#If t >=1, then it returns the sorted loading coefficients\n",
    "\n",
    "#Number of components is FIXED at one because p53 is a binary categorical variable\n",
    "#Returns classification report and accuracy rate\n",
    "def lda_custom(dfX, dfy, ts, rs, t):\n",
    "\n",
    "    X = dfX\n",
    "    y = dfy\n",
    "\n",
    "    # Split the data into training and testing sets\n",
    "    #Use a 80:20 split train:test\n",
    "    X_train, X_test, y_train, y_test = train_test_split(X, y, test_size=ts,random_state=rs)\n",
    "\n",
    "    #Because p53 is a binary categorical variable, components MUST BE 1 \n",
    "    #Do not change n_components\n",
    "\n",
    "    lda = LinearDiscriminantAnalysis(n_components = 1)\n",
    "\n",
    "    # Fit the LDA model on the training data\n",
    "\n",
    "    lda.fit(X_train, y_train)\n",
    "\n",
    "    # Make predictions on the test data\n",
    "    y_pred = lda.predict(X_test)\n",
    "    \n",
    "    lda_coef = pd.DataFrame(lda.coef_,columns=X.columns)\n",
    "    lda_coef_T = lda_coef.T\n",
    "    lda_coef_T.columns = ['Loading Coefficient']\n",
    "    lda_coef_sorted = lda_coef_T.sort_values(by = 'Loading Coefficient', ascending = False)\n",
    "\n",
    "    # Evaluate the model's accuracy\n",
    "    accuracy = accuracy_score(y_test, y_pred)\n",
    "    print(classification_report(y_pred, y_test))\n",
    "    if (t < 1):\n",
    "        return accuracy*100\n",
    "    else:\n",
    "        return lda_coef_sorted[:10]"
   ]
  },
  {
   "cell_type": "code",
   "execution_count": 9,
   "metadata": {},
   "outputs": [],
   "source": [
    "#METHOD 3 - Principal Component Analysis\n",
    "\n",
    "#Accpts three parameters: pandas dataframe, number of components (must be equal to or greater than 2) and top t\n",
    "#Top t is the amount of top loading features you care about\n",
    "#It returns a dataframe of biophysical attribute names and their corresponding loading values for each principal component\n",
    "\n",
    "def pca_custom(df, n_comp, t):\n",
    "    scaler = StandardScaler()\n",
    "    df_scaled = scaler.fit_transform(df)\n",
    "\n",
    "    # Create pca object, first just look at 2 components\n",
    "    pca = PCA(n_components=n_comp)\n",
    "\n",
    "    # Fit the PCA model to the standardized data\n",
    "    pca.fit(df_scaled)\n",
    "    \n",
    "\n",
    "    # Transform the data\n",
    "  #  pca = pca.transform(df_scaled)\n",
    "    \n",
    "   # return type(pca)\n",
    "\n",
    "    \n",
    "    loadings = pca.components_.T\n",
    "\n",
    "    # Create a dataframe for better visualization\n",
    "    loadings_df = pd.DataFrame(loadings, columns=['PC1', 'PC2'], index=df.columns)\n",
    "    \n",
    "    loadings_abs = loadings_df.abs()\n",
    "    \n",
    "    loadings_sorted = loadings_abs.sort_values(by = 'PC1', ascending = False)\n",
    "    \n",
    "    #loadings_sorted = loadings_sorted.abs()\n",
    "\n",
    "    return loadings_sorted.iloc[:t, :]"
   ]
  },
  {
   "cell_type": "code",
   "execution_count": 10,
   "metadata": {},
   "outputs": [],
   "source": [
    "#METHOD - 4\n",
    "\n",
    "#p53 correlation sorting\n",
    "#This method finds the correlation coefficient of p53 against all other predictor variables\n",
    "#Accepts a pandas data frame and number of predictor variables you want to report\n",
    "#Returns a head() of a dataframe of correlation coefficients to the row number specified\n",
    "\n",
    "def p53_corr_custom(df, n):\n",
    "    #df_corr = df.corr()\n",
    "    \n",
    "    #Find max correlation coefficient\n",
    "    #Exclude values equal to 1\n",
    "    #max_df = df_corr.apply(lambda x: x[x != 1.0].max())\n",
    "    #max_df_sorted = max_df.sort_values(ascending = False)\n",
    "    \n",
    "    p53_corr = df.corr()['p53']\n",
    "\n",
    "    # Create a new column with the absolute correlation value\n",
    "    \n",
    "    p53_corr = p53_corr[p53_corr != 1]\n",
    "\n",
    "    # Sort by the absolute correlation value in descending order\n",
    "    df = p53_corr.sort_values(ascending=False)\n",
    "    \n",
    "    return df.head(n)"
   ]
  },
  {
   "cell_type": "code",
   "execution_count": 11,
   "metadata": {},
   "outputs": [],
   "source": [
    "#METHOD - 5\n",
    "\n",
    "#Method computes logistic regression model\n",
    "\n",
    "#Accepts X df, y df, test size and random state\n",
    "\n",
    "#returns classification report\n",
    "\n",
    "def logreg_custom(dfX, dfy, ts, rs):\n",
    "    X = dfX  \n",
    "    y = dfy  # Replace with your target column\n",
    "\n",
    "    #Split data into train and test sets\n",
    "    X_train, X_test, y_train, y_test = train_test_split(X, y, test_size=ts, random_state=rs)\n",
    "\n",
    "    #Create and fit logistic regression model\n",
    "    model = LogisticRegression()\n",
    "    model.fit(X_train, y_train)\n",
    "\n",
    "    #Make predictions\n",
    "    y_pred = model.predict(X_test)\n",
    "\n",
    "    #Evaluate model\n",
    "    accuracy = accuracy_score(y_test, y_pred)\n",
    "    print(classification_report(y_test, y_pred))\n",
    "    \n",
    "    return accuracy*100"
   ]
  },
  {
   "cell_type": "code",
   "execution_count": 12,
   "metadata": {},
   "outputs": [],
   "source": [
    "#METHOD - 6 get column index\n",
    "\n",
    "#This method accepts a pandas df and a column name\n",
    "#It returns the index of that column name\n",
    "def get_column_index(df, name):\n",
    "    return df.columns.get_loc(name)\n",
    "    "
   ]
  },
  {
   "cell_type": "code",
   "execution_count": 13,
   "metadata": {},
   "outputs": [],
   "source": [
    "#METHOD - 7 get column name\n",
    "\n",
    "#This method accepts a pandas df and a column name\n",
    "#It returns the index of that column name\n",
    "def get_column_name(df, i):\n",
    "    return df.columns[i]"
   ]
  },
  {
   "cell_type": "markdown",
   "metadata": {},
   "source": [
    "ANALYSIS\n",
    "\n",
    "First define the dataset and clean the data"
   ]
  },
  {
   "cell_type": "code",
   "execution_count": 53,
   "metadata": {},
   "outputs": [],
   "source": [
    "#Turn off datatype warnings\n",
    "import warnings\n",
    "from sklearn.exceptions import UndefinedMetricWarning\n",
    "\n",
    "warnings.filterwarnings(\"ignore\", category=pd.errors.DtypeWarning)\n",
    "warnings.filterwarnings(\"ignore\", category=UndefinedMetricWarning)"
   ]
  },
  {
   "cell_type": "code",
   "execution_count": 54,
   "metadata": {},
   "outputs": [],
   "source": [
    "#Set genes5408 equal to .csv\n",
    "#Dataset is very large, it will take some time to assign\n",
    "\n",
    "genes5408 = pd.read_csv(\"Gene_5408.csv\")\n",
    "\n",
    "#You will get a datatype warning if warnings are not turned off, the subsequent datacleaning steps will address this warning\n",
    "#It can be ignored"
   ]
  },
  {
   "cell_type": "code",
   "execution_count": 55,
   "metadata": {},
   "outputs": [],
   "source": [
    "#Rename response variable \n",
    "#p53 is the gene of interest/response variable\n",
    "genes5408.rename(columns={'inactive': 'p53'}, inplace=True)"
   ]
  },
  {
   "cell_type": "code",
   "execution_count": 56,
   "metadata": {},
   "outputs": [],
   "source": [
    "#Change p53 to a binary variable\n",
    "#Necessary for any correlation or classification analysis\n",
    "#p53 must be converted to 0 and 1\n",
    "genes5408['p53'] = genes5408['p53'].astype('category')\n",
    "\n",
    "genes5408['p53'] = genes5408['p53'].cat.codes"
   ]
  },
  {
   "cell_type": "code",
   "execution_count": 57,
   "metadata": {},
   "outputs": [],
   "source": [
    "# Convert all columns to numeric\n",
    "genes5408 = genes5408.apply(pd.to_numeric, errors='coerce')"
   ]
  },
  {
   "cell_type": "code",
   "execution_count": 58,
   "metadata": {},
   "outputs": [],
   "source": [
    "#Lose all Na values\n",
    "#These will not be accepted by LDA model\n",
    "genes5408.dropna(inplace=True)"
   ]
  },
  {
   "cell_type": "code",
   "execution_count": 59,
   "metadata": {},
   "outputs": [
    {
     "data": {
      "text/plain": [
       "X.0.012.6                 0.587765\n",
       "X.0.012675675675675676    0.563088\n",
       "X0.024                    0.562349\n",
       "X.0.0942105263157895      0.559788\n",
       "X0.6105068493150686       0.558916\n",
       "X11.725                   0.551354\n",
       "X.0.018.3                 0.550899\n",
       "X0.012.1                  0.550476\n",
       "X0.026.3                  0.548157\n",
       "X0.102                    0.546880\n",
       "Name: p53, dtype: float64"
      ]
     },
     "execution_count": 59,
     "metadata": {},
     "output_type": "execute_result"
    }
   ],
   "source": [
    "#First run a simple correlation matrix with p53 to see what biophysical attributes are correlated with p53\n",
    "p53_corr_custom(genes5408, 10)"
   ]
  },
  {
   "cell_type": "markdown",
   "metadata": {},
   "source": [
    "The following biophysical attributes are of interest after consulting the correlation matrix\n",
    "\n",
    "X.0.012.6                \n",
    "X.0.012675675675675676    \n",
    "X0.024                   \n",
    "X.0.0942105263157895      \n",
    "X0.6105068493150686       \n",
    "X11.725                   \n",
    "X.0.018.3                 \n",
    "X0.012.1                  \n",
    "X0.026.3                  \n",
    "                    \n",
    "\n",
    "These biophysical attributes will become relevant later\n",
    "\n",
    "First let's try to train a KNN and LDA model WITHOUT any dimensionality reduction"
   ]
  },
  {
   "cell_type": "code",
   "execution_count": 60,
   "metadata": {},
   "outputs": [],
   "source": [
    "#The following is the format for the custom KNN method\n",
    "#knn_custom(geneskX, genesky, ts, rs, k_par)\n",
    "\n",
    "#Parse data into X and y\n",
    "\n",
    "geneX = genes5408.iloc[:, :5407]\n",
    "geney = genes5408['p53']"
   ]
  },
  {
   "cell_type": "code",
   "execution_count": 61,
   "metadata": {},
   "outputs": [
    {
     "name": "stdout",
     "output_type": "stream",
     "text": [
      "              precision    recall  f1-score   support\n",
      "\n",
      "           0       0.00      0.00      0.00         3\n",
      "           1       0.92      1.00      0.96        36\n",
      "\n",
      "    accuracy                           0.92        39\n",
      "   macro avg       0.46      0.50      0.48        39\n",
      "weighted avg       0.85      0.92      0.89        39\n",
      "\n"
     ]
    },
    {
     "data": {
      "text/plain": [
       "92.3076923076923"
      ]
     },
     "execution_count": 61,
     "metadata": {},
     "output_type": "execute_result"
    }
   ],
   "source": [
    "#Call KNN method\n",
    "#ts = 20%\n",
    "#random state = 42\n",
    "\n",
    "knn_custom(geneX, geney, 0.2, 42, 5)\n",
    "\n",
    "#You will get another warning, this warning is saying that the f-score and precision are ill-defined with such a large dataset"
   ]
  },
  {
   "cell_type": "markdown",
   "metadata": {},
   "source": [
    "Although the total average was 92%, the precision rate for active (mutant p53) is 0%\n",
    "Because we are concerned with identifying active (mutant p53) genes, this classification model does not work\n",
    "\n",
    "Next let's try an linear discriminant analysis model WITHOUT dimensionality reduction"
   ]
  },
  {
   "cell_type": "code",
   "execution_count": 62,
   "metadata": {},
   "outputs": [
    {
     "name": "stdout",
     "output_type": "stream",
     "text": [
      "              precision    recall  f1-score   support\n",
      "\n",
      "           0       0.67      0.50      0.57         4\n",
      "           1       0.94      0.97      0.96        35\n",
      "\n",
      "    accuracy                           0.92        39\n",
      "   macro avg       0.81      0.74      0.76        39\n",
      "weighted avg       0.92      0.92      0.92        39\n",
      "\n"
     ]
    },
    {
     "data": {
      "text/plain": [
       "92.3076923076923"
      ]
     },
     "execution_count": 62,
     "metadata": {},
     "output_type": "execute_result"
    }
   ],
   "source": [
    "#Call LDA method\n",
    "#test size = 20%\n",
    "#random state = 42\n",
    "#Set t = 0, return accuracy rate\n",
    "lda_custom(geneX, geney, 0.2, 42, 0)"
   ]
  },
  {
   "cell_type": "markdown",
   "metadata": {},
   "source": [
    "This model is much better than the KNN model, even with no dimensionality reduction the lda model obtained a mutant p53 precision rate of 67%\n",
    "\n",
    "Let's see if we can improve either the KNN or LDA via PCA"
   ]
  },
  {
   "cell_type": "code",
   "execution_count": 63,
   "metadata": {},
   "outputs": [
    {
     "data": {
      "text/html": [
       "<div>\n",
       "<style scoped>\n",
       "    .dataframe tbody tr th:only-of-type {\n",
       "        vertical-align: middle;\n",
       "    }\n",
       "\n",
       "    .dataframe tbody tr th {\n",
       "        vertical-align: top;\n",
       "    }\n",
       "\n",
       "    .dataframe thead th {\n",
       "        text-align: right;\n",
       "    }\n",
       "</style>\n",
       "<table border=\"1\" class=\"dataframe\">\n",
       "  <thead>\n",
       "    <tr style=\"text-align: right;\">\n",
       "      <th></th>\n",
       "      <th>PC1</th>\n",
       "      <th>PC2</th>\n",
       "    </tr>\n",
       "  </thead>\n",
       "  <tbody>\n",
       "    <tr>\n",
       "      <th>X.0.693</th>\n",
       "      <td>0.027324</td>\n",
       "      <td>0.002060</td>\n",
       "    </tr>\n",
       "    <tr>\n",
       "      <th>X0.939</th>\n",
       "      <td>0.027284</td>\n",
       "      <td>0.000064</td>\n",
       "    </tr>\n",
       "    <tr>\n",
       "      <th>X.0.770</th>\n",
       "      <td>0.027182</td>\n",
       "      <td>0.000051</td>\n",
       "    </tr>\n",
       "    <tr>\n",
       "      <th>X.1.426</th>\n",
       "      <td>0.027038</td>\n",
       "      <td>0.001850</td>\n",
       "    </tr>\n",
       "    <tr>\n",
       "      <th>X.0.033.19</th>\n",
       "      <td>0.026792</td>\n",
       "      <td>0.006579</td>\n",
       "    </tr>\n",
       "    <tr>\n",
       "      <th>X.0.049.14</th>\n",
       "      <td>0.026771</td>\n",
       "      <td>0.007569</td>\n",
       "    </tr>\n",
       "    <tr>\n",
       "      <th>X.0.083.2</th>\n",
       "      <td>0.026761</td>\n",
       "      <td>0.007759</td>\n",
       "    </tr>\n",
       "    <tr>\n",
       "      <th>X0.003.3</th>\n",
       "      <td>0.026759</td>\n",
       "      <td>0.007194</td>\n",
       "    </tr>\n",
       "    <tr>\n",
       "      <th>X.0.091</th>\n",
       "      <td>0.026743</td>\n",
       "      <td>0.007472</td>\n",
       "    </tr>\n",
       "    <tr>\n",
       "      <th>X.0.018.23</th>\n",
       "      <td>0.026719</td>\n",
       "      <td>0.006758</td>\n",
       "    </tr>\n",
       "  </tbody>\n",
       "</table>\n",
       "</div>"
      ],
      "text/plain": [
       "                 PC1       PC2\n",
       "X.0.693     0.027324  0.002060\n",
       "X0.939      0.027284  0.000064\n",
       "X.0.770     0.027182  0.000051\n",
       "X.1.426     0.027038  0.001850\n",
       "X.0.033.19  0.026792  0.006579\n",
       "X.0.049.14  0.026771  0.007569\n",
       "X.0.083.2   0.026761  0.007759\n",
       "X0.003.3    0.026759  0.007194\n",
       "X.0.091     0.026743  0.007472\n",
       "X.0.018.23  0.026719  0.006758"
      ]
     },
     "execution_count": 63,
     "metadata": {},
     "output_type": "execute_result"
    }
   ],
   "source": [
    "#Call PCA method\n",
    "pca_custom(genes5408, 2, 10)\n"
   ]
  },
  {
   "cell_type": "markdown",
   "metadata": {},
   "source": [
    "The following biophysical attributes have been identified by principal component analysis as having large loading coefficients\n",
    "\n",
    "X.0.693\t\n",
    "X0.939\t\n",
    "X.0.770\t\n",
    "X.1.426\t\n",
    "X.0.033.19\t\n",
    "X.0.049.14\t\n",
    "X.0.083.2\t\n",
    "X0.003.3\t\n",
    "X.0.091\t\n",
    "X.0.018.23\n",
    "\n",
    "\n",
    "If we create a subset of data using only these biophysical attributes, we might be able to improve the classification models"
   ]
  },
  {
   "cell_type": "code",
   "execution_count": 64,
   "metadata": {},
   "outputs": [],
   "source": [
    "gpca = genes5408[['X.0.693','X0.939','X.0.770','X.1.426','X.0.033.19','X.0.049.14','X.0.083.2','X0.003.3','X.0.091','X.0.018.23','p53']]\n",
    "\n",
    "gpcaX = gpca.iloc[:,:10]\n",
    "gpcay = gpca['p53']"
   ]
  },
  {
   "cell_type": "code",
   "execution_count": 65,
   "metadata": {},
   "outputs": [
    {
     "name": "stdout",
     "output_type": "stream",
     "text": [
      "              precision    recall  f1-score   support\n",
      "\n",
      "           0       0.00      0.00      0.00         4\n",
      "           1       0.93      0.96      0.95        54\n",
      "\n",
      "    accuracy                           0.90        58\n",
      "   macro avg       0.46      0.48      0.47        58\n",
      "weighted avg       0.86      0.90      0.88        58\n",
      "\n"
     ]
    },
    {
     "data": {
      "text/plain": [
       "89.65517241379311"
      ]
     },
     "execution_count": 65,
     "metadata": {},
     "output_type": "execute_result"
    }
   ],
   "source": [
    "#Now create a KNN model using this PCA data subset\n",
    "#Call KNN model\n",
    "knn_custom(gpcaX, gpcay, 0.3, 42, 4)"
   ]
  },
  {
   "cell_type": "markdown",
   "metadata": {},
   "source": [
    "PCA-mitigated dimensionality reduction not only did not improve the KNN model, it actually decreased the overall accuracy rate. \n",
    "\n",
    "Let's see if the LDA model improved"
   ]
  },
  {
   "cell_type": "code",
   "execution_count": 66,
   "metadata": {},
   "outputs": [
    {
     "name": "stdout",
     "output_type": "stream",
     "text": [
      "              precision    recall  f1-score   support\n",
      "\n",
      "           0       0.00      0.00      0.00         1\n",
      "           1       0.97      0.92      0.95        38\n",
      "\n",
      "    accuracy                           0.90        39\n",
      "   macro avg       0.49      0.46      0.47        39\n",
      "weighted avg       0.95      0.90      0.92        39\n",
      "\n"
     ]
    },
    {
     "data": {
      "text/plain": [
       "89.74358974358975"
      ]
     },
     "execution_count": 66,
     "metadata": {},
     "output_type": "execute_result"
    }
   ],
   "source": [
    "#Now create an LDA model using PCA data subset\n",
    "#Call LDA model (after PCA)\n",
    "lda_custom(gpcaX, gpcay, 0.2, 42, 0)"
   ]
  },
  {
   "cell_type": "markdown",
   "metadata": {},
   "source": [
    "PCA-mitigated dimensionality reduction also decreased the accuracy rate of our LDA model. \n",
    "\n",
    "My belief is that since PCA is an unsupervised machine learning technique, it is not ranking features with respect to our response variable.\n",
    "\n"
   ]
  },
  {
   "cell_type": "code",
   "execution_count": 67,
   "metadata": {},
   "outputs": [
    {
     "name": "stdout",
     "output_type": "stream",
     "text": [
      "              precision    recall  f1-score   support\n",
      "\n",
      "           0       0.00      0.00      0.00         3\n",
      "           1       0.92      1.00      0.96        36\n",
      "\n",
      "    accuracy                           0.92        39\n",
      "   macro avg       0.46      0.50      0.48        39\n",
      "weighted avg       0.85      0.92      0.89        39\n",
      "\n"
     ]
    },
    {
     "data": {
      "text/plain": [
       "92.3076923076923"
      ]
     },
     "execution_count": 67,
     "metadata": {},
     "output_type": "execute_result"
    }
   ],
   "source": [
    "#Call logistic regression model for reference\n",
    "logreg_custom(gpcaX, gpcay, 0.2, 42)"
   ]
  },
  {
   "cell_type": "markdown",
   "metadata": {},
   "source": [
    "The logistic regression model also showed a mutant p53 rate of 0%\n",
    "\n",
    "The PCA-mitigated dimensionality reduction is not a feasible accuracy improvement method\n",
    "\n",
    "At least not with this few of observations"
   ]
  },
  {
   "cell_type": "markdown",
   "metadata": {},
   "source": [
    "LDA-MITIGATED DIMENSIONALITY REDUCTION\n",
    "\n",
    "Now we will use the top 10 loading genes obtained through LDA (instead of PCA)"
   ]
  },
  {
   "cell_type": "code",
   "execution_count": 68,
   "metadata": {},
   "outputs": [
    {
     "name": "stdout",
     "output_type": "stream",
     "text": [
      "              precision    recall  f1-score   support\n",
      "\n",
      "           0       0.00      0.00      0.00         1\n",
      "           1       0.97      0.92      0.95        38\n",
      "\n",
      "    accuracy                           0.90        39\n",
      "   macro avg       0.49      0.46      0.47        39\n",
      "weighted avg       0.95      0.90      0.92        39\n",
      "\n"
     ]
    },
    {
     "data": {
      "text/html": [
       "<div>\n",
       "<style scoped>\n",
       "    .dataframe tbody tr th:only-of-type {\n",
       "        vertical-align: middle;\n",
       "    }\n",
       "\n",
       "    .dataframe tbody tr th {\n",
       "        vertical-align: top;\n",
       "    }\n",
       "\n",
       "    .dataframe thead th {\n",
       "        text-align: right;\n",
       "    }\n",
       "</style>\n",
       "<table border=\"1\" class=\"dataframe\">\n",
       "  <thead>\n",
       "    <tr style=\"text-align: right;\">\n",
       "      <th></th>\n",
       "      <th>Loading Coefficient</th>\n",
       "    </tr>\n",
       "  </thead>\n",
       "  <tbody>\n",
       "    <tr>\n",
       "      <th>X.0.018.23</th>\n",
       "      <td>431.684296</td>\n",
       "    </tr>\n",
       "    <tr>\n",
       "      <th>X.0.049.14</th>\n",
       "      <td>306.265324</td>\n",
       "    </tr>\n",
       "    <tr>\n",
       "      <th>X.0.693</th>\n",
       "      <td>14.204192</td>\n",
       "    </tr>\n",
       "    <tr>\n",
       "      <th>X0.939</th>\n",
       "      <td>3.092525</td>\n",
       "    </tr>\n",
       "    <tr>\n",
       "      <th>X.1.426</th>\n",
       "      <td>0.552354</td>\n",
       "    </tr>\n",
       "    <tr>\n",
       "      <th>X.0.091</th>\n",
       "      <td>-6.893155</td>\n",
       "    </tr>\n",
       "    <tr>\n",
       "      <th>X.0.770</th>\n",
       "      <td>-10.800202</td>\n",
       "    </tr>\n",
       "    <tr>\n",
       "      <th>X0.003.3</th>\n",
       "      <td>-63.525190</td>\n",
       "    </tr>\n",
       "    <tr>\n",
       "      <th>X.0.083.2</th>\n",
       "      <td>-281.606426</td>\n",
       "    </tr>\n",
       "    <tr>\n",
       "      <th>X.0.033.19</th>\n",
       "      <td>-370.676322</td>\n",
       "    </tr>\n",
       "  </tbody>\n",
       "</table>\n",
       "</div>"
      ],
      "text/plain": [
       "            Loading Coefficient\n",
       "X.0.018.23           431.684296\n",
       "X.0.049.14           306.265324\n",
       "X.0.693               14.204192\n",
       "X0.939                 3.092525\n",
       "X.1.426                0.552354\n",
       "X.0.091               -6.893155\n",
       "X.0.770              -10.800202\n",
       "X0.003.3             -63.525190\n",
       "X.0.083.2           -281.606426\n",
       "X.0.033.19          -370.676322"
      ]
     },
     "execution_count": 68,
     "metadata": {},
     "output_type": "execute_result"
    }
   ],
   "source": [
    "#Call LDA and set t = 1 to call loading coefficients\n",
    "lda_custom(gpcaX, gpcay, 0.2, 42, 1)\n"
   ]
  },
  {
   "cell_type": "markdown",
   "metadata": {},
   "source": [
    "LDA showed that the following biophysical attributes are heavily involved in the linear components\n",
    "\n",
    "X.0.018.23\n",
    "X.0.049.14\n",
    "X.0.693\n",
    "X0.939\n",
    "X.1.426\n",
    "X.0.091\n",
    "X.0.770\n",
    "X0.003.3\n",
    "X.0.083.2\n",
    "X.0.033.19\n",
    "\n",
    "Because LDA is a supervised method, these are aligned with respect to our response variable p53"
   ]
  },
  {
   "cell_type": "code",
   "execution_count": 69,
   "metadata": {},
   "outputs": [],
   "source": [
    "#Create data subset with only these 10 biophysical attributes\n",
    "\n",
    "glda = genes5408[['X.0.018.23','X.0.049.14','X.0.693','X0.939','X.1.426','X.0.091','X.0.770','X0.003.3','X.0.083.2','X.0.033.19','p53']]\n",
    "\n",
    "gldaX = gpca.iloc[:,:10]\n",
    "glday = gpca['p53']"
   ]
  },
  {
   "cell_type": "code",
   "execution_count": 70,
   "metadata": {},
   "outputs": [
    {
     "name": "stdout",
     "output_type": "stream",
     "text": [
      "              precision    recall  f1-score   support\n",
      "\n",
      "           0       0.00      0.00      0.00         4\n",
      "           1       0.95      0.97      0.96        74\n",
      "\n",
      "    accuracy                           0.92        78\n",
      "   macro avg       0.47      0.49      0.48        78\n",
      "weighted avg       0.90      0.92      0.91        78\n",
      "\n"
     ]
    },
    {
     "data": {
      "text/plain": [
       "92.3076923076923"
      ]
     },
     "execution_count": 70,
     "metadata": {},
     "output_type": "execute_result"
    }
   ],
   "source": [
    "#Create KNN model with this subset\n",
    "\n",
    "knn_custom(gldaX, glday, 0.4, 42, 5)"
   ]
  },
  {
   "cell_type": "markdown",
   "metadata": {},
   "source": [
    "The LDA-mitigated dimensionality reduction also did not improve the accuracy rate of our KNN classificaiton model\n"
   ]
  },
  {
   "cell_type": "code",
   "execution_count": 71,
   "metadata": {},
   "outputs": [
    {
     "name": "stdout",
     "output_type": "stream",
     "text": [
      "              precision    recall  f1-score   support\n",
      "\n",
      "           0       0.00      0.00      0.00         3\n",
      "           1       0.92      1.00      0.96        36\n",
      "\n",
      "    accuracy                           0.92        39\n",
      "   macro avg       0.46      0.50      0.48        39\n",
      "weighted avg       0.85      0.92      0.89        39\n",
      "\n"
     ]
    },
    {
     "data": {
      "text/plain": [
       "92.3076923076923"
      ]
     },
     "execution_count": 71,
     "metadata": {},
     "output_type": "execute_result"
    }
   ],
   "source": [
    "#Try logistic regression with lda subset\n",
    "logreg_custom(gldaX, glday, 0.2, 42)"
   ]
  },
  {
   "cell_type": "markdown",
   "metadata": {},
   "source": [
    "The LDA-mitigated dimensionality reduction also did not improve the accuracy rate of our logistic regression model"
   ]
  },
  {
   "cell_type": "markdown",
   "metadata": {},
   "source": [
    "SIMPLE CORRELATION MATRIX DIMENSIONALITY REDUCTION\n",
    "\n",
    "Since more advanced dimensionality reduction techniques PCA and LDA did not improve p53 accuracy rates, try simple correlation matrixes"
   ]
  },
  {
   "cell_type": "code",
   "execution_count": 72,
   "metadata": {},
   "outputs": [
    {
     "data": {
      "text/plain": [
       "X.0.012.6                 0.587765\n",
       "X.0.012675675675675676    0.563088\n",
       "X0.024                    0.562349\n",
       "X.0.0942105263157895      0.559788\n",
       "X0.6105068493150686       0.558916\n",
       "X11.725                   0.551354\n",
       "X.0.018.3                 0.550899\n",
       "X0.012.1                  0.550476\n",
       "X0.026.3                  0.548157\n",
       "X0.102                    0.546880\n",
       "Name: p53, dtype: float64"
      ]
     },
     "execution_count": 72,
     "metadata": {},
     "output_type": "execute_result"
    }
   ],
   "source": [
    "#Create correlation matrix with respect to p53\n",
    "#Call the p53_corr_custom method\n",
    "#Send total df and the amount of biophysical attributes you want to reduce your dataset down to\n",
    "p53_corr_custom(genes5408, 10)"
   ]
  },
  {
   "cell_type": "code",
   "execution_count": 73,
   "metadata": {},
   "outputs": [],
   "source": [
    "#Create subset of data based on this list\n",
    "#Just use the first top ten most correlation biophysical attritutes with p53\n",
    "\n",
    "gcor = genes5408[['X.0.012.6','X.0.012675675675675676','X0.024','X.0.0942105263157895',\n",
    "                  'X0.6105068493150686','X11.725','X.0.018.3','X0.012.1',\n",
    "                  'X0.026.3','X0.102','X.0.014.5','X.0.012','X0.810','X.0.003.5','X0.028.2',\n",
    "                  'X0.43223333333333336','X0.328','X0.044', 'X3.2511999999999994', \n",
    "                  'X0.016.19', 'p53']]\n",
    "\n",
    "#Create sub-subset (X & y) for training/testing model\n",
    "gcorX = gcor.iloc[:,:20]\n",
    "gcory = gcor['p53']"
   ]
  },
  {
   "cell_type": "code",
   "execution_count": 74,
   "metadata": {},
   "outputs": [
    {
     "name": "stdout",
     "output_type": "stream",
     "text": [
      "              precision    recall  f1-score   support\n",
      "\n",
      "           0       1.00      1.00      1.00         3\n",
      "           1       1.00      1.00      1.00        36\n",
      "\n",
      "    accuracy                           1.00        39\n",
      "   macro avg       1.00      1.00      1.00        39\n",
      "weighted avg       1.00      1.00      1.00        39\n",
      "\n"
     ]
    },
    {
     "data": {
      "text/plain": [
       "100.0"
      ]
     },
     "execution_count": 74,
     "metadata": {},
     "output_type": "execute_result"
    }
   ],
   "source": [
    "#Train a KNN model using just this subset of biophysical attributes\n",
    "\n",
    "#KNN with simple correlation dimensionality reduction\n",
    "knn_custom(gcorX, gcory, 0.2, 42, 10)"
   ]
  },
  {
   "cell_type": "markdown",
   "metadata": {},
   "source": [
    "The simple correlation dimensionality reduction yielded a 100% p53 mutant precision rate\n",
    "\n",
    "Maximized model accuracy\n",
    "\n",
    "This does suggest overfitting, however, the accuracy rate has undoubtedly improved significantly"
   ]
  },
  {
   "cell_type": "code",
   "execution_count": 75,
   "metadata": {},
   "outputs": [
    {
     "name": "stdout",
     "output_type": "stream",
     "text": [
      "              precision    recall  f1-score   support\n",
      "\n",
      "           0       0.50      0.25      0.33         4\n",
      "           1       0.96      0.99      0.97        74\n",
      "\n",
      "    accuracy                           0.95        78\n",
      "   macro avg       0.73      0.62      0.65        78\n",
      "weighted avg       0.94      0.95      0.94        78\n",
      "\n"
     ]
    },
    {
     "data": {
      "text/plain": [
       "94.87179487179486"
      ]
     },
     "execution_count": 75,
     "metadata": {},
     "output_type": "execute_result"
    }
   ],
   "source": [
    "#Logistic regression with simple correlation dimensionality reduction\n",
    "\n",
    "logreg_custom(gcorX, gcory, 0.4, 42)\n"
   ]
  },
  {
   "cell_type": "markdown",
   "metadata": {},
   "source": [
    "The logistic regression model did increase in accuracy, but not nearly as much as our KNN model\n",
    "\n",
    "p53 mutant precision accuracy is 50%, overall accuracy is 94%"
   ]
  },
  {
   "cell_type": "code",
   "execution_count": 76,
   "metadata": {},
   "outputs": [
    {
     "name": "stdout",
     "output_type": "stream",
     "text": [
      "              precision    recall  f1-score   support\n",
      "\n",
      "           0       0.50      0.25      0.33         4\n",
      "           1       0.96      0.99      0.97        74\n",
      "\n",
      "    accuracy                           0.95        78\n",
      "   macro avg       0.73      0.62      0.65        78\n",
      "weighted avg       0.94      0.95      0.94        78\n",
      "\n"
     ]
    },
    {
     "data": {
      "text/plain": [
       "94.87179487179486"
      ]
     },
     "execution_count": 76,
     "metadata": {},
     "output_type": "execute_result"
    }
   ],
   "source": [
    "#Simple logistic regression with just the top variable\n",
    "\n",
    "gcorX_simple = gcorX.iloc[:,:20]\n",
    "\n",
    "logreg_custom(gcorX_simple, gcory, 0.4, 42)"
   ]
  },
  {
   "cell_type": "code",
   "execution_count": 77,
   "metadata": {},
   "outputs": [
    {
     "data": {
      "text/plain": [
       "781"
      ]
     },
     "execution_count": 77,
     "metadata": {},
     "output_type": "execute_result"
    }
   ],
   "source": [
    "#INDEX positions of biophysical attributes for more observations\n",
    "\n",
    "genes5408.columns.get_loc('X.0.012.6')"
   ]
  },
  {
   "cell_type": "code",
   "execution_count": 78,
   "metadata": {},
   "outputs": [],
   "source": [
    "#Find the indices in the main dataset \n",
    "#Use them to requerry the data with only these 10 select attributes\n",
    "\n",
    "l1 = list(range(10))\n",
    "\n",
    "for i in l1:   \n",
    "    name = get_column_name(gcorX, i)\n",
    "\n",
    "    l1[i] = get_column_index(genes5408, name)\n"
   ]
  },
  {
   "cell_type": "code",
   "execution_count": 79,
   "metadata": {},
   "outputs": [
    {
     "name": "stdout",
     "output_type": "stream",
     "text": [
      "[781, 2297, 403, 4475, 4708, 4687, 406, 404, 357, 354]\n"
     ]
    }
   ],
   "source": [
    "print(l1)"
   ]
  },
  {
   "cell_type": "markdown",
   "metadata": {},
   "source": [
    "The indices were used to re-querry the total dataset. The total dataset again is 5408 features with 16,000 observations. It's too large to handle all at once so it has to be querried.\n",
    "\n",
    "I have a program written in R on my local laptop that can easily querry the total dataset.\n",
    "\n",
    "We re-querried the dataset with just these top 10 features and have increased the amount of observations from 200 to 16,000"
   ]
  },
  {
   "cell_type": "code",
   "execution_count": 80,
   "metadata": {},
   "outputs": [],
   "source": [
    "bioAtt = pd.read_csv(\"p53_Highly_Correlated_Features04.csv\")"
   ]
  },
  {
   "cell_type": "code",
   "execution_count": 81,
   "metadata": {},
   "outputs": [
    {
     "data": {
      "text/html": [
       "<div>\n",
       "<style scoped>\n",
       "    .dataframe tbody tr th:only-of-type {\n",
       "        vertical-align: middle;\n",
       "    }\n",
       "\n",
       "    .dataframe tbody tr th {\n",
       "        vertical-align: top;\n",
       "    }\n",
       "\n",
       "    .dataframe thead th {\n",
       "        text-align: right;\n",
       "    }\n",
       "</style>\n",
       "<table border=\"1\" class=\"dataframe\">\n",
       "  <thead>\n",
       "    <tr style=\"text-align: right;\">\n",
       "      <th></th>\n",
       "      <th>X.0.012.6</th>\n",
       "      <th>X.0.012675675675675676</th>\n",
       "      <th>X0.024</th>\n",
       "      <th>X.0.0942105263157895</th>\n",
       "      <th>X0.6105068493150686</th>\n",
       "      <th>X11.725</th>\n",
       "      <th>X.0.018.3</th>\n",
       "      <th>X0.012.1</th>\n",
       "      <th>X0.026.3</th>\n",
       "      <th>X0.102</th>\n",
       "      <th>inactive</th>\n",
       "    </tr>\n",
       "  </thead>\n",
       "  <tbody>\n",
       "    <tr>\n",
       "      <th>0</th>\n",
       "      <td>-0.015</td>\n",
       "      <td>-0.006337837837837839</td>\n",
       "      <td>-0.005</td>\n",
       "      <td>-0.0454736842105263</td>\n",
       "      <td>1.0495753424657537</td>\n",
       "      <td>7.091</td>\n",
       "      <td>-0.008</td>\n",
       "      <td>0.006</td>\n",
       "      <td>0.034</td>\n",
       "      <td>0.036</td>\n",
       "      <td>inactive</td>\n",
       "    </tr>\n",
       "    <tr>\n",
       "      <th>1</th>\n",
       "      <td>?</td>\n",
       "      <td>?</td>\n",
       "      <td>?</td>\n",
       "      <td>?</td>\n",
       "      <td>?</td>\n",
       "      <td>?</td>\n",
       "      <td>?</td>\n",
       "      <td>?</td>\n",
       "      <td>?</td>\n",
       "      <td>?</td>\n",
       "      <td>inactive</td>\n",
       "    </tr>\n",
       "    <tr>\n",
       "      <th>2</th>\n",
       "      <td>-0.015</td>\n",
       "      <td>-0.017675675675675673</td>\n",
       "      <td>0.038</td>\n",
       "      <td>-0.3547894736842103</td>\n",
       "      <td>0.2122328767123287</td>\n",
       "      <td>10.080</td>\n",
       "      <td>-0.015</td>\n",
       "      <td>0.017</td>\n",
       "      <td>0.037</td>\n",
       "      <td>0.098</td>\n",
       "      <td>inactive</td>\n",
       "    </tr>\n",
       "    <tr>\n",
       "      <th>3</th>\n",
       "      <td>-0.028</td>\n",
       "      <td>-0.04398648648648648</td>\n",
       "      <td>0.060</td>\n",
       "      <td>0.20723684210526302</td>\n",
       "      <td>1.0923287671232875</td>\n",
       "      <td>7.532</td>\n",
       "      <td>-0.055</td>\n",
       "      <td>-0.018</td>\n",
       "      <td>0.001</td>\n",
       "      <td>-0.005</td>\n",
       "      <td>inactive</td>\n",
       "    </tr>\n",
       "    <tr>\n",
       "      <th>4</th>\n",
       "      <td>-0.007</td>\n",
       "      <td>-0.008189189189189188</td>\n",
       "      <td>0.116</td>\n",
       "      <td>-0.5543947368421053</td>\n",
       "      <td>1.1046986301369865</td>\n",
       "      <td>18.019</td>\n",
       "      <td>-0.035</td>\n",
       "      <td>-0.008</td>\n",
       "      <td>0.033</td>\n",
       "      <td>0.109</td>\n",
       "      <td>inactive</td>\n",
       "    </tr>\n",
       "  </tbody>\n",
       "</table>\n",
       "</div>"
      ],
      "text/plain": [
       "  X.0.012.6 X.0.012675675675675676  X0.024 X.0.0942105263157895  \\\n",
       "0    -0.015  -0.006337837837837839  -0.005  -0.0454736842105263   \n",
       "1         ?                      ?       ?                    ?   \n",
       "2    -0.015  -0.017675675675675673   0.038  -0.3547894736842103   \n",
       "3    -0.028   -0.04398648648648648   0.060  0.20723684210526302   \n",
       "4    -0.007  -0.008189189189189188   0.116  -0.5543947368421053   \n",
       "\n",
       "  X0.6105068493150686 X11.725 X.0.018.3 X0.012.1 X0.026.3  X0.102  inactive  \n",
       "0  1.0495753424657537   7.091    -0.008    0.006    0.034   0.036  inactive  \n",
       "1                   ?       ?         ?        ?        ?       ?  inactive  \n",
       "2  0.2122328767123287  10.080    -0.015    0.017    0.037   0.098  inactive  \n",
       "3  1.0923287671232875   7.532    -0.055   -0.018    0.001  -0.005  inactive  \n",
       "4  1.1046986301369865  18.019    -0.035   -0.008    0.033   0.109  inactive  "
      ]
     },
     "execution_count": 81,
     "metadata": {},
     "output_type": "execute_result"
    }
   ],
   "source": [
    "#Make sure the right data was querried\n",
    "bioAtt.head()"
   ]
  },
  {
   "cell_type": "code",
   "execution_count": 82,
   "metadata": {},
   "outputs": [],
   "source": [
    "#Rename response variable \n",
    "#p53 is the gene of interest/response variable\n",
    "bioAtt.rename(columns={'inactive': 'p53'}, inplace=True)"
   ]
  },
  {
   "cell_type": "code",
   "execution_count": 83,
   "metadata": {},
   "outputs": [],
   "source": [
    "#Change p53 to a binary variable\n",
    "#Necessary for any correlation or classification analysis\n",
    "#p53 must be converted to 0 and 1\n",
    "bioAtt['p53'] = bioAtt['p53'].astype('category')\n",
    "\n",
    "bioAtt['p53'] = bioAtt['p53'].cat.codes"
   ]
  },
  {
   "cell_type": "code",
   "execution_count": 84,
   "metadata": {},
   "outputs": [],
   "source": [
    "# Convert all columns to numeric\n",
    "bioAtt = bioAtt.apply(pd.to_numeric, errors='coerce')"
   ]
  },
  {
   "cell_type": "code",
   "execution_count": 85,
   "metadata": {},
   "outputs": [],
   "source": [
    "#Lose all Na values\n",
    "#These will not be accepted by LDA model\n",
    "bioAtt.dropna(inplace=True)"
   ]
  },
  {
   "cell_type": "code",
   "execution_count": 88,
   "metadata": {},
   "outputs": [
    {
     "data": {
      "text/plain": [
       "(15820, 11)"
      ]
     },
     "execution_count": 88,
     "metadata": {},
     "output_type": "execute_result"
    }
   ],
   "source": [
    "#Check shape of bioAtt\n",
    "#Should have 11 variables (10 predictor 1 target/response variable)\n",
    "#Approximately 16,000 observations, minus the NaN's removed from cleaning procedure\n",
    "bioAtt.shape"
   ]
  },
  {
   "cell_type": "code",
   "execution_count": 89,
   "metadata": {},
   "outputs": [
    {
     "data": {
      "text/plain": [
       "X.0.018.3                 0.197532\n",
       "X0.024                    0.185783\n",
       "X0.012.1                  0.179174\n",
       "X.0.0942105263157895      0.150888\n",
       "X0.102                    0.105551\n",
       "X.0.012675675675675676    0.102793\n",
       "X0.026.3                  0.099668\n",
       "X0.6105068493150686       0.081251\n",
       "X11.725                   0.049812\n",
       "X.0.012.6                 0.004021\n",
       "Name: p53, dtype: float64"
      ]
     },
     "execution_count": 89,
     "metadata": {},
     "output_type": "execute_result"
    }
   ],
   "source": [
    "p53_corr_custom(bioAtt, 10)"
   ]
  },
  {
   "cell_type": "markdown",
   "metadata": {},
   "source": [
    "We see a considerable decrease in correlation with p53 once we increase the observation size. This suggests that the original high correlation coefficients could be due to overfitting"
   ]
  },
  {
   "cell_type": "code",
   "execution_count": 90,
   "metadata": {},
   "outputs": [],
   "source": [
    "#The following is the format for the custom KNN method\n",
    "#knn_custom(geneskX, genesky, ts, rs, k_par)\n",
    "\n",
    "#Parse data into X and y\n",
    "\n",
    "bioAttX = bioAtt.iloc[:, :10]\n",
    "bioAtty = bioAtt['p53']"
   ]
  },
  {
   "cell_type": "code",
   "execution_count": 91,
   "metadata": {},
   "outputs": [
    {
     "name": "stdout",
     "output_type": "stream",
     "text": [
      "              precision    recall  f1-score   support\n",
      "\n",
      "           0       0.67      0.10      0.17        20\n",
      "           1       0.99      1.00      1.00      3144\n",
      "\n",
      "    accuracy                           0.99      3164\n",
      "   macro avg       0.83      0.55      0.59      3164\n",
      "weighted avg       0.99      0.99      0.99      3164\n",
      "\n"
     ]
    },
    {
     "data": {
      "text/plain": [
       "99.39949431099873"
      ]
     },
     "execution_count": 91,
     "metadata": {},
     "output_type": "execute_result"
    }
   ],
   "source": [
    "knn_custom(bioAttX, bioAtty, 0.2, 42, 5)"
   ]
  },
  {
   "cell_type": "code",
   "execution_count": 92,
   "metadata": {},
   "outputs": [
    {
     "name": "stdout",
     "output_type": "stream",
     "text": [
      "              precision    recall  f1-score   support\n",
      "\n",
      "           0       0.20      0.21      0.21        19\n",
      "           1       1.00      0.99      1.00      3145\n",
      "\n",
      "    accuracy                           0.99      3164\n",
      "   macro avg       0.60      0.60      0.60      3164\n",
      "weighted avg       0.99      0.99      0.99      3164\n",
      "\n"
     ]
    },
    {
     "data": {
      "text/plain": [
       "99.02022756005057"
      ]
     },
     "execution_count": 92,
     "metadata": {},
     "output_type": "execute_result"
    }
   ],
   "source": [
    "lda_custom(bioAttX, bioAtty, 0.2, 42, 0)"
   ]
  },
  {
   "cell_type": "code",
   "execution_count": 93,
   "metadata": {},
   "outputs": [
    {
     "name": "stdout",
     "output_type": "stream",
     "text": [
      "              precision    recall  f1-score   support\n",
      "\n",
      "           0       0.00      0.00      0.00        20\n",
      "           1       0.99      1.00      1.00      3144\n",
      "\n",
      "    accuracy                           0.99      3164\n",
      "   macro avg       0.50      0.50      0.50      3164\n",
      "weighted avg       0.99      0.99      0.99      3164\n",
      "\n"
     ]
    },
    {
     "data": {
      "text/plain": [
       "99.36788874841972"
      ]
     },
     "execution_count": 93,
     "metadata": {},
     "output_type": "execute_result"
    }
   ],
   "source": [
    "logreg_custom(bioAttX, bioAtty, 0.2, 42)"
   ]
  },
  {
   "cell_type": "markdown",
   "metadata": {},
   "source": [
    "Both these models showed heavy overfitting when trained on the larger data (16,000 observations) "
   ]
  },
  {
   "cell_type": "markdown",
   "metadata": {},
   "source": [
    "MATPLOTLIB USED TO VISUALIZE AND GENERATE GRAPHS\n",
    "\n",
    "First show strong collinearity in dataset between biophysical attributes\n",
    "\n",
    "X0.046.8 and X0.035.19 observed to be highly correlated"
   ]
  },
  {
   "cell_type": "code",
   "execution_count": 120,
   "metadata": {},
   "outputs": [
    {
     "data": {
      "image/png": "[encoded data removed]",
      "text/plain": [
       "<Figure size 432x288 with 1 Axes>"
      ]
     },
     "metadata": {
      "needs_background": "light"
     },
     "output_type": "display_data"
    }
   ],
   "source": [
    "#Lets visualize these pairs using matplotlib\n",
    "\n",
    "# Start with X0.046.8 with X0.035.19\n",
    "\n",
    "#Create plot\n",
    "\n",
    "plt.scatter(genes5408['X0.046.8'], genes5408['X0.035.19'], color = \"orange\")\n",
    "\n",
    "# Add labels and title\n",
    "plt.xlabel(\"X0.046.8\")\n",
    "plt.ylabel(\"X0.035.19\")\n",
    "plt.title('Biophysical attribute collinearity, corr coefficient = 0.97')\n",
    "\n",
    "# Show the plot\n",
    "plt.show()"
   ]
  },
  {
   "cell_type": "code",
   "execution_count": 98,
   "metadata": {},
   "outputs": [
    {
     "data": {
      "image/png": "[encoded data removed]",
      "text/plain": [
       "<Figure size 432x288 with 1 Axes>"
      ]
     },
     "metadata": {
      "needs_background": "light"
     },
     "output_type": "display_data"
    }
   ],
   "source": [
    "# Now visualzie X0.003.34 with X0.018.26\n",
    "\n",
    "#Create plot\n",
    "\n",
    "plt.scatter(genes5408['X0.003.34'], genes5408['X0.018.26'], color = 'purple')\n",
    "\n",
    "# Add labels and title\n",
    "plt.xlabel(\"X0.003.34\")\n",
    "plt.ylabel(\"X0.018.26\")\n",
    "plt.title('Biophysical Attribute Collinearity, corr coefficient = 0.92')\n",
    "\n",
    "# Show the plot\n",
    "plt.show()"
   ]
  },
  {
   "cell_type": "markdown",
   "metadata": {},
   "source": [
    "NEXT VISUALIZE p53 response variable with the biophysical attribute X.0.012.6"
   ]
  },
  {
   "cell_type": "code",
   "execution_count": 100,
   "metadata": {},
   "outputs": [
    {
     "data": {
      "image/png": "[encoded data removed]",
      "text/plain": [
       "<Figure size 432x288 with 1 Axes>"
      ]
     },
     "metadata": {
      "needs_background": "light"
     },
     "output_type": "display_data"
    }
   ],
   "source": [
    "\n",
    "plt.scatter(genes5408['X.0.012.6'], genes5408['p53'], color = \"red\")\n",
    "\n",
    "# Add labels and title\n",
    "plt.xlabel(\"X.0.012.6\")\n",
    "plt.ylabel(\"p53\")\n",
    "plt.title('p53 logistic with X.0.012.6, corr coefficient = 0.58')\n",
    "\n",
    "# Show the plot\n",
    "plt.show()"
   ]
  },
  {
   "cell_type": "markdown",
   "metadata": {},
   "source": [
    "Compare that with the high observation datasets"
   ]
  },
  {
   "cell_type": "code",
   "execution_count": 102,
   "metadata": {},
   "outputs": [
    {
     "data": {
      "image/png": "[encoded data removed]",
      "text/plain": [
       "<Figure size 432x288 with 1 Axes>"
      ]
     },
     "metadata": {
      "needs_background": "light"
     },
     "output_type": "display_data"
    }
   ],
   "source": [
    "plt.scatter(bioAtt['X.0.012.6'], bioAtt['p53'], color = \"pink\")\n",
    "\n",
    "# Add labels and title\n",
    "plt.xlabel(\"X.0.012.6\")\n",
    "plt.ylabel(\"p53\")\n",
    "plt.title('p53 logistic with X.0.012.6, corr coefficient = 0.58')\n",
    "\n",
    "# Show the plot\n",
    "plt.show()"
   ]
  },
  {
   "cell_type": "markdown",
   "metadata": {},
   "source": [
    "You can see how heavily the small dataset led to overfitting when compared to the dataset with more observations\n",
    "\n",
    "Any correlation between p53 and biophysical attribute X.0.012.6 is most likely non-linear"
   ]
  },
  {
   "cell_type": "markdown",
   "metadata": {},
   "source": [
    "VISUALIZE LDA MODEL USING MATPLOTLIB"
   ]
  },
  {
   "cell_type": "code",
   "execution_count": 108,
   "metadata": {},
   "outputs": [
    {
     "name": "stdout",
     "output_type": "stream",
     "text": [
      "Accuracy: 0.9230769230769231 %\n"
     ]
    }
   ],
   "source": [
    "Xlda = geneX\n",
    "ylda = geney\n",
    "\n",
    "# Split the data into training and testing sets\n",
    "#Use a 80:20 split train:test\n",
    "Xlda_train, Xlda_test, ylda_train, ylda_test = train_test_split(Xlda, ylda, test_size=0.2, random_state=42)\n",
    "\n",
    "# Create an LDA model using sklearn import\n",
    "lda1 = LinearDiscriminantAnalysis(n_components = 1)\n",
    "\n",
    "# Fit the LDA model on the training data\n",
    "\n",
    "lda1.fit(Xlda_train, ylda_train)\n",
    "\n",
    "# Make predictions on the test data\n",
    "ylda_pred = lda1.predict(Xlda_test)\n",
    "\n",
    "# Evaluate the model's accuracy\n",
    "accuracylda = accuracy_score(ylda_test, ylda_pred)\n",
    "print(\"Accuracy:\", accuracylda, \"%\")"
   ]
  },
  {
   "cell_type": "code",
   "execution_count": 109,
   "metadata": {},
   "outputs": [
    {
     "name": "stdout",
     "output_type": "stream",
     "text": [
      "              precision    recall  f1-score   support\n",
      "\n",
      "           0       0.50      0.67      0.57         3\n",
      "           1       0.97      0.94      0.96        36\n",
      "\n",
      "    accuracy                           0.92        39\n",
      "   macro avg       0.74      0.81      0.76        39\n",
      "weighted avg       0.94      0.92      0.93        39\n",
      "\n"
     ]
    }
   ],
   "source": [
    "print(classification_report(ylda_test, ylda_pred))"
   ]
  },
  {
   "cell_type": "code",
   "execution_count": 119,
   "metadata": {},
   "outputs": [
    {
     "data": {
      "image/png": "[encoded data removed]",
      "text/plain": [
       "<Figure size 432x288 with 1 Axes>"
      ]
     },
     "metadata": {
      "needs_background": "light"
     },
     "output_type": "display_data"
    }
   ],
   "source": [
    "X_lda = lda1.transform(Xlda)\n",
    "\n",
    "# Plot the transformed data\n",
    "plt.scatter(X_lda[:, 0], np.zeros_like(X_lda[:, ]), color = \"purple\")\n",
    "plt.xlabel('LDA Component 1')\n",
    "plt.title('LDA n-components =1, yellow = inactive, purple = active')\n",
    "plt.show()"
   ]
  },
  {
   "cell_type": "code",
   "execution_count": null,
   "metadata": {},
   "outputs": [],
   "source": []
  }
 ],
 "metadata": {
  "kernelspec": {
   "display_name": "Python 3",
   "language": "python",
   "name": "python3"
  },
  "language_info": {
   "codemirror_mode": {
    "name": "ipython",
    "version": 3
   },
   "file_extension": ".py",
   "mimetype": "text/x-python",
   "name": "python",
   "nbconvert_exporter": "python",
   "pygments_lexer": "ipython3",
   "version": "3.6.10"
  }
 },
 "nbformat": 4,
 "nbformat_minor": 2
}
